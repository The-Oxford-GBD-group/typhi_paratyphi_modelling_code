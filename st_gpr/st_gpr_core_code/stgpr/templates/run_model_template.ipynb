{
 "cells": [
  {
   "cell_type": "code",
   "execution_count": 2,
   "metadata": {},
   "outputs": [],
   "source": [
    "########################################################################################################\n",
    "# Register and launch an ST-GPR model from R\n",
    "# \n",
    "# Description: Use python fire to send arguments \n",
    "#              for ST-GPR registration and launch\n",
    "#              functions to python functions\n",
    "#\n",
    "# Author: Hayley Tymeson\n",
    "# Date: January 14, 2019\n",
    "#\n",
    "########################################################################################################\n",
    "\n",
    "central_root <- '/ihme/code/st_gpr/central/stgpr'\n",
    "setwd(central_root)\n",
    "\n",
    "source('r_functions/registration/register.R')\n",
    "source('r_functions/registration/sendoff.R')"
   ]
  },
  {
   "cell_type": "code",
   "execution_count": 3,
   "metadata": {},
   "outputs": [],
   "source": [
    "# Register model",
    "path_to_config <- '/path/to/my/config.csv'\n",
    "model_index_id <- NULL\n",
    "run_id <- register_stgpr_model(path_to_config, model_index_id)"
   ]
  },
  {
   "cell_type": "code",
   "execution_count": 1,
   "metadata": {},
   "outputs": [],
   "source": [
    "# Submit model\n",
    "project <- 'proj_custom_models'\n",
    "st_gpr_sendoff(run_id, project)"
   ]
  }
 ],
 "metadata": {
  "kernelspec": {
   "display_name": "R",
   "language": "R",
   "name": "r_singularity"
  },
  "language_info": {
   "codemirror_mode": "r",
   "file_extension": ".r",
   "mimetype": "text/x-r-source",
   "name": "R",
   "pygments_lexer": "r",
   "version": "3.5.0"
  }
 },
 "nbformat": 4,
 "nbformat_minor": 2
}
